{
 "cells": [
  {
   "attachments": {},
   "cell_type": "markdown",
   "metadata": {},
   "source": [
    "### Chop wav files in n minutes"
   ]
  },
  {
   "cell_type": "code",
   "execution_count": 6,
   "metadata": {},
   "outputs": [],
   "source": [
    "import wave\n",
    "import os"
   ]
  },
  {
   "cell_type": "code",
   "execution_count": 7,
   "metadata": {},
   "outputs": [],
   "source": [
    "def chop_wav(input_file, output_folder, chop_minute):\n",
    "    # Create the output folder if it doesn't exist\n",
    "    if not os.path.exists(output_folder):\n",
    "        os.makedirs(output_folder)\n",
    "\n",
    "    # Open the input file\n",
    "    with wave.open(input_file, 'rb') as wav_file:\n",
    "        # Get the sample width, number of channels, and sample rate\n",
    "        sample_width = wav_file.getsampwidth()\n",
    "        num_channels = wav_file.getnchannels()\n",
    "        sample_rate = wav_file.getframerate()\n",
    "\n",
    "        # Calculate the number of frames to chop based on the selected minute\n",
    "        chop_frames = int(chop_minute * 60 * sample_rate)\n",
    "\n",
    "        # Create the output file path\n",
    "        output_file = os.path.join(output_folder, f'chopped_{chop_minute}min.wav')\n",
    "\n",
    "        # Open the output file\n",
    "        with wave.open(output_file, 'wb') as output_wav:\n",
    "            # Set the output file parameters\n",
    "            output_wav.setsampwidth(sample_width)\n",
    "            output_wav.setnchannels(num_channels)\n",
    "            output_wav.setframerate(sample_rate)\n",
    "\n",
    "            # Read and write the frames up to the chop point\n",
    "            frames = wav_file.readframes(chop_frames)\n",
    "            output_wav.writeframes(frames)\n",
    "\n",
    "    print(f'File \"{input_file}\" chopped to {chop_minute} minute and saved to \"{output_file}\"')\n",
    "\n"
   ]
  },
  {
   "cell_type": "code",
   "execution_count": 8,
   "metadata": {},
   "outputs": [
    {
     "name": "stdout",
     "output_type": "stream",
     "text": [
      "File \"./input/my_audio_voice.wav\" chopped to 5 minute and saved to \"./intermediate/chopped_5min.wav\"\n"
     ]
    }
   ],
   "source": [
    "# Example usage\n",
    "input_file = './input/my_audio_voice.wav'\n",
    "output_folder = './intermediate/'\n",
    "chop_minute = 5\n",
    "\n",
    "chop_wav(input_file, output_folder, chop_minute)\n"
   ]
  },
  {
   "attachments": {},
   "cell_type": "markdown",
   "metadata": {},
   "source": [
    "### slice audios into n seconds"
   ]
  },
  {
   "cell_type": "code",
   "execution_count": 9,
   "metadata": {},
   "outputs": [],
   "source": [
    "import wave\n",
    "import os\n",
    "import math\n",
    "\n",
    "def slice_wav(input_file, output_folder, duration):\n",
    "    # Create the output folder if it doesn't exist\n",
    "    if not os.path.exists(output_folder):\n",
    "        os.makedirs(output_folder)\n",
    "\n",
    "    # Open the input file\n",
    "    with wave.open(input_file, 'rb') as wav_file:\n",
    "        # Get the sample width, number of channels, and sample rate\n",
    "        sample_width = wav_file.getsampwidth()\n",
    "        num_channels = wav_file.getnchannels()\n",
    "        sample_rate = wav_file.getframerate()\n",
    "\n",
    "        # Calculate the number of frames for the desired duration\n",
    "        duration_frames = int(duration * sample_rate)\n",
    "\n",
    "        # Calculate the total number of frames in the input file\n",
    "        total_frames = wav_file.getnframes()\n",
    "\n",
    "        # Calculate the number of segments\n",
    "        num_segments = math.ceil(total_frames / duration_frames)\n",
    "\n",
    "        # Extract and save each segment\n",
    "        for segment_index in range(num_segments):\n",
    "            # Create the output file path\n",
    "            output_file = os.path.join(output_folder, f'segment_{segment_index+1}.wav')\n",
    "\n",
    "            # Calculate the start and end frames for the current segment\n",
    "            start_frame = segment_index * duration_frames\n",
    "            end_frame = min((segment_index + 1) * duration_frames, total_frames)\n",
    "\n",
    "            # Set the start position of the input file\n",
    "            wav_file.setpos(start_frame)\n",
    "\n",
    "            # Open the output file\n",
    "            with wave.open(output_file, 'wb') as output_wav:\n",
    "                # Set the output file parameters\n",
    "                output_wav.setsampwidth(sample_width)\n",
    "                output_wav.setnchannels(num_channels)\n",
    "                output_wav.setframerate(sample_rate)\n",
    "\n",
    "                # Read and write the frames for the current segment\n",
    "                frames = wav_file.readframes(end_frame - start_frame)\n",
    "                output_wav.writeframes(frames)\n",
    "\n",
    "            print(f'Segment {segment_index+1} saved to \"{output_file}\"')\n",
    "\n",
    "    print(f'Audio file \"{input_file}\" sliced into {num_segments} segments.')\n",
    "\n"
   ]
  },
  {
   "cell_type": "code",
   "execution_count": 10,
   "metadata": {},
   "outputs": [
    {
     "ename": "FileNotFoundError",
     "evalue": "[Errno 2] No such file or directory: './intermediate/chopped_3min.wav'",
     "output_type": "error",
     "traceback": [
      "\u001b[1;31m---------------------------------------------------------------------------\u001b[0m",
      "\u001b[1;31mFileNotFoundError\u001b[0m                         Traceback (most recent call last)",
      "Cell \u001b[1;32mIn[10], line 6\u001b[0m\n\u001b[0;32m      3\u001b[0m output_folder \u001b[39m=\u001b[39m \u001b[39m'\u001b[39m\u001b[39m./intermediate/slices_audio/\u001b[39m\u001b[39m'\u001b[39m\n\u001b[0;32m      4\u001b[0m duration \u001b[39m=\u001b[39m \u001b[39m10\u001b[39m  \u001b[39m# Duration of each audio file segment in seconds\u001b[39;00m\n\u001b[1;32m----> 6\u001b[0m slice_wav(input_file, output_folder, duration)\n",
      "Cell \u001b[1;32mIn[9], line 11\u001b[0m, in \u001b[0;36mslice_wav\u001b[1;34m(input_file, output_folder, duration)\u001b[0m\n\u001b[0;32m      8\u001b[0m     os\u001b[39m.\u001b[39mmakedirs(output_folder)\n\u001b[0;32m     10\u001b[0m \u001b[39m# Open the input file\u001b[39;00m\n\u001b[1;32m---> 11\u001b[0m \u001b[39mwith\u001b[39;00m wave\u001b[39m.\u001b[39;49mopen(input_file, \u001b[39m'\u001b[39;49m\u001b[39mrb\u001b[39;49m\u001b[39m'\u001b[39;49m) \u001b[39mas\u001b[39;00m wav_file:\n\u001b[0;32m     12\u001b[0m     \u001b[39m# Get the sample width, number of channels, and sample rate\u001b[39;00m\n\u001b[0;32m     13\u001b[0m     sample_width \u001b[39m=\u001b[39m wav_file\u001b[39m.\u001b[39mgetsampwidth()\n\u001b[0;32m     14\u001b[0m     num_channels \u001b[39m=\u001b[39m wav_file\u001b[39m.\u001b[39mgetnchannels()\n",
      "File \u001b[1;32mC:\\Program Files\\WindowsApps\\PythonSoftwareFoundation.Python.3.10_3.10.3056.0_x64__qbz5n2kfra8p0\\lib\\wave.py:509\u001b[0m, in \u001b[0;36mopen\u001b[1;34m(f, mode)\u001b[0m\n\u001b[0;32m    507\u001b[0m         mode \u001b[39m=\u001b[39m \u001b[39m'\u001b[39m\u001b[39mrb\u001b[39m\u001b[39m'\u001b[39m\n\u001b[0;32m    508\u001b[0m \u001b[39mif\u001b[39;00m mode \u001b[39min\u001b[39;00m (\u001b[39m'\u001b[39m\u001b[39mr\u001b[39m\u001b[39m'\u001b[39m, \u001b[39m'\u001b[39m\u001b[39mrb\u001b[39m\u001b[39m'\u001b[39m):\n\u001b[1;32m--> 509\u001b[0m     \u001b[39mreturn\u001b[39;00m Wave_read(f)\n\u001b[0;32m    510\u001b[0m \u001b[39melif\u001b[39;00m mode \u001b[39min\u001b[39;00m (\u001b[39m'\u001b[39m\u001b[39mw\u001b[39m\u001b[39m'\u001b[39m, \u001b[39m'\u001b[39m\u001b[39mwb\u001b[39m\u001b[39m'\u001b[39m):\n\u001b[0;32m    511\u001b[0m     \u001b[39mreturn\u001b[39;00m Wave_write(f)\n",
      "File \u001b[1;32mC:\\Program Files\\WindowsApps\\PythonSoftwareFoundation.Python.3.10_3.10.3056.0_x64__qbz5n2kfra8p0\\lib\\wave.py:159\u001b[0m, in \u001b[0;36mWave_read.__init__\u001b[1;34m(self, f)\u001b[0m\n\u001b[0;32m    157\u001b[0m \u001b[39mself\u001b[39m\u001b[39m.\u001b[39m_i_opened_the_file \u001b[39m=\u001b[39m \u001b[39mNone\u001b[39;00m\n\u001b[0;32m    158\u001b[0m \u001b[39mif\u001b[39;00m \u001b[39misinstance\u001b[39m(f, \u001b[39mstr\u001b[39m):\n\u001b[1;32m--> 159\u001b[0m     f \u001b[39m=\u001b[39m builtins\u001b[39m.\u001b[39;49mopen(f, \u001b[39m'\u001b[39;49m\u001b[39mrb\u001b[39;49m\u001b[39m'\u001b[39;49m)\n\u001b[0;32m    160\u001b[0m     \u001b[39mself\u001b[39m\u001b[39m.\u001b[39m_i_opened_the_file \u001b[39m=\u001b[39m f\n\u001b[0;32m    161\u001b[0m \u001b[39m# else, assume it is an open file object already\u001b[39;00m\n",
      "\u001b[1;31mFileNotFoundError\u001b[0m: [Errno 2] No such file or directory: './intermediate/chopped_3min.wav'"
     ]
    }
   ],
   "source": [
    "# Example usage\n",
    "input_file = './intermediate/chopped_5min.wav'\n",
    "output_folder = './intermediate/slices_audio/'\n",
    "duration = 10  # Duration of each audio file segment in seconds\n",
    "\n",
    "slice_wav(input_file, output_folder, duration)"
   ]
  },
  {
   "cell_type": "code",
   "execution_count": null,
   "metadata": {},
   "outputs": [],
   "source": []
  }
 ],
 "metadata": {
  "kernelspec": {
   "display_name": "Python 3",
   "language": "python",
   "name": "python3"
  },
  "language_info": {
   "codemirror_mode": {
    "name": "ipython",
    "version": 3
   },
   "file_extension": ".py",
   "mimetype": "text/x-python",
   "name": "python",
   "nbconvert_exporter": "python",
   "pygments_lexer": "ipython3",
   "version": "3.10.11"
  },
  "orig_nbformat": 4
 },
 "nbformat": 4,
 "nbformat_minor": 2
}
